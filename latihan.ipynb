{
 "cells": [
  {
   "cell_type": "code",
   "execution_count": 29,
   "metadata": {},
   "outputs": [
    {
     "name": "stdout",
     "output_type": "stream",
     "text": [
      "test\n"
     ]
    }
   ],
   "source": [
    "print(\"test\")"
   ]
  },
  {
   "cell_type": "code",
   "execution_count": 30,
   "metadata": {},
   "outputs": [
    {
     "name": "stdout",
     "output_type": "stream",
     "text": [
      "Requirement already satisfied: biopython in c:\\users\\rapha\\appdata\\local\\programs\\python\\python312\\lib\\site-packages (1.83)Note: you may need to restart the kernel to use updated packages.\n",
      "\n",
      "Requirement already satisfied: numpy in c:\\users\\rapha\\appdata\\local\\programs\\python\\python312\\lib\\site-packages (from biopython) (1.26.4)\n"
     ]
    }
   ],
   "source": [
    "%pip install biopython"
   ]
  },
  {
   "cell_type": "code",
   "execution_count": 72,
   "metadata": {},
   "outputs": [
    {
     "name": "stdout",
     "output_type": "stream",
     "text": [
      "66\n",
      "66\n",
      "-1\n",
      "-1\n",
      "AGTGACTGAGGATCGCTCGATCGTGTCACTGCACTAGC\n",
      "CGATCACGTCACTGTGCTAGCTCGCTAGGAGTCAGTGA\n"
     ]
    }
   ],
   "source": [
    "from Bio.Seq import Seq\n",
    "\n",
    "sequence_x = Seq('AGTGACTGAGCAGGCAGCATGTGTCGACGATCGAGTGACTGAGCAGGCAGCATGTGTCGACGATCG')\n",
    "sequence_y = Seq('CTCGATCGTGTCACTGCACTCGATCGTAGCTAGCTAGCTCGATCGTAGCTGTCGATCGTAGCTAGC')\n",
    "\n",
    "print(len(sequence_x))\n",
    "print(len(sequence_y))\n",
    "\n",
    "# finding CGC\n",
    "\n",
    "print(sequence_x.find('CGC'))\n",
    "print(sequence_y.find('CGC'))\n",
    "\n",
    "partX = sequence_x[:10] + sequence_x[-5:]\n",
    "partY = sequence_y[:20] + sequence_y[-3:]\n",
    "\n",
    "# Join\n",
    "\n",
    "combined = partX + partY\n",
    "print(combined)\n",
    "\n",
    "# Reversed\n",
    "sequence_z = combined[::-1]\n",
    "\n",
    "print(sequence_z)"
   ]
  },
  {
   "cell_type": "code",
   "execution_count": 73,
   "metadata": {},
   "outputs": [
    {
     "name": "stdout",
     "output_type": "stream",
     "text": [
      "Counter({'G': 11, 'C': 10, 'T': 9, 'A': 8})\n",
      "8\n",
      "10\n"
     ]
    },
    {
     "data": {
      "image/png": "[encoded data removed]",
      "text/plain": [
       "<Figure size 640x480 with 1 Axes>"
      ]
     },
     "metadata": {},
     "output_type": "display_data"
    }
   ],
   "source": [
    "from collections import Counter\n",
    "result = Counter(sequence_z)\n",
    "print(result)\n",
    "\n",
    "# plt.bar(result.keys(), result.values())\n",
    "# plt.show\n",
    "\n",
    "from matplotlib import pyplot as plt\n",
    "a_count = sequence_z.count('A')\n",
    "c_count = sequence_z.count('C')\n",
    "\n",
    "print(a_count)\n",
    "print(c_count)\n",
    "\n",
    "\n",
    "plt.bar(['A', 'C'], [a_count, c_count])\n",
    "plt.xlabel('Nucleotide Base')\n",
    "plt.ylabel('Frequency')\n",
    "plt.title('Frequency of Nucleotide Bases A and C in Sequence Z')\n",
    "plt.show()\n",
    "\n",
    "\n",
    "\n"
   ]
  },
  {
   "cell_type": "code",
   "execution_count": 27,
   "metadata": {},
   "outputs": [
    {
     "name": "stdout",
     "output_type": "stream",
     "text": [
      "Collecting matplotlib\n",
      "  Downloading matplotlib-3.9.0-cp312-cp312-win_amd64.whl.metadata (11 kB)\n",
      "Collecting contourpy>=1.0.1 (from matplotlib)\n",
      "  Downloading contourpy-1.2.1-cp312-cp312-win_amd64.whl.metadata (5.8 kB)\n",
      "Collecting cycler>=0.10 (from matplotlib)\n",
      "  Downloading cycler-0.12.1-py3-none-any.whl.metadata (3.8 kB)\n",
      "Collecting fonttools>=4.22.0 (from matplotlib)\n",
      "  Downloading fonttools-4.53.0-cp312-cp312-win_amd64.whl.metadata (165 kB)\n",
      "     ---------------------------------------- 0.0/165.5 kB ? eta -:--:--\n",
      "     -- ------------------------------------- 10.2/165.5 kB ? eta -:--:--\n",
      "     ------ ------------------------------ 30.7/165.5 kB 435.7 kB/s eta 0:00:01\n",
      "     ------ ------------------------------ 30.7/165.5 kB 435.7 kB/s eta 0:00:01\n",
      "     ------ ------------------------------ 30.7/165.5 kB 435.7 kB/s eta 0:00:01\n",
      "     --------- --------------------------- 41.0/165.5 kB 178.6 kB/s eta 0:00:01\n",
      "     ------------------ ------------------ 81.9/165.5 kB 305.0 kB/s eta 0:00:01\n",
      "     -------------------- ---------------- 92.2/165.5 kB 308.0 kB/s eta 0:00:01\n",
      "     ------------------------ ----------- 112.6/165.5 kB 344.8 kB/s eta 0:00:01\n",
      "     ---------------------------- ------- 133.1/165.5 kB 327.7 kB/s eta 0:00:01\n",
      "     ------------------------------------ 165.5/165.5 kB 367.9 kB/s eta 0:00:00\n",
      "Collecting kiwisolver>=1.3.1 (from matplotlib)\n",
      "  Downloading kiwisolver-1.4.5-cp312-cp312-win_amd64.whl.metadata (6.5 kB)\n",
      "Requirement already satisfied: numpy>=1.23 in c:\\users\\rapha\\appdata\\local\\programs\\python\\python312\\lib\\site-packages (from matplotlib) (1.26.4)\n",
      "Requirement already satisfied: packaging>=20.0 in c:\\users\\rapha\\appdata\\roaming\\python\\python312\\site-packages (from matplotlib) (24.0)\n",
      "Collecting pillow>=8 (from matplotlib)\n",
      "  Downloading pillow-10.3.0-cp312-cp312-win_amd64.whl.metadata (9.4 kB)\n",
      "Collecting pyparsing>=2.3.1 (from matplotlib)\n",
      "  Downloading pyparsing-3.1.2-py3-none-any.whl.metadata (5.1 kB)\n",
      "Requirement already satisfied: python-dateutil>=2.7 in c:\\users\\rapha\\appdata\\roaming\\python\\python312\\site-packages (from matplotlib) (2.9.0.post0)\n",
      "Requirement already satisfied: six>=1.5 in c:\\users\\rapha\\appdata\\roaming\\python\\python312\\site-packages (from python-dateutil>=2.7->matplotlib) (1.16.0)\n",
      "Downloading matplotlib-3.9.0-cp312-cp312-win_amd64.whl (8.0 MB)\n",
      "   ---------------------------------------- 0.0/8.0 MB ? eta -:--:--\n",
      "    --------------------------------------- 0.1/8.0 MB 2.2 MB/s eta 0:00:04\n",
      "    --------------------------------------- 0.1/8.0 MB 2.2 MB/s eta 0:00:04\n",
      "    --------------------------------------- 0.1/8.0 MB 2.2 MB/s eta 0:00:04\n",
      "    --------------------------------------- 0.1/8.0 MB 2.2 MB/s eta 0:00:04\n",
      "    --------------------------------------- 0.1/8.0 MB 554.9 kB/s eta 0:00:15\n",
      "    --------------------------------------- 0.2/8.0 MB 573.4 kB/s eta 0:00:14\n",
      "   - -------------------------------------- 0.2/8.0 MB 724.0 kB/s eta 0:00:11\n",
      "   - -------------------------------------- 0.3/8.0 MB 910.2 kB/s eta 0:00:09\n",
      "   - -------------------------------------- 0.4/8.0 MB 1.0 MB/s eta 0:00:08\n",
      "   - -------------------------------------- 0.4/8.0 MB 1.0 MB/s eta 0:00:08\n",
      "   -- ------------------------------------- 0.4/8.0 MB 895.2 kB/s eta 0:00:09\n",
      "   -- ------------------------------------- 0.4/8.0 MB 895.2 kB/s eta 0:00:09\n",
      "   -- ------------------------------------- 0.5/8.0 MB 758.5 kB/s eta 0:00:10\n",
      "   --- ------------------------------------ 0.7/8.0 MB 1.1 MB/s eta 0:00:07\n",
      "   ---- ----------------------------------- 0.9/8.0 MB 1.3 MB/s eta 0:00:06\n",
      "   ---- ----------------------------------- 0.9/8.0 MB 1.3 MB/s eta 0:00:06\n",
      "   ---- ----------------------------------- 1.0/8.0 MB 1.2 MB/s eta 0:00:06\n",
      "   ---- ----------------------------------- 1.0/8.0 MB 1.2 MB/s eta 0:00:06\n",
      "   ------ --------------------------------- 1.3/8.0 MB 1.4 MB/s eta 0:00:05\n",
      "   ------- -------------------------------- 1.5/8.0 MB 1.6 MB/s eta 0:00:04\n",
      "   -------- ------------------------------- 1.6/8.0 MB 1.7 MB/s eta 0:00:04\n",
      "   -------- ------------------------------- 1.6/8.0 MB 1.7 MB/s eta 0:00:04\n",
      "   -------- ------------------------------- 1.6/8.0 MB 1.7 MB/s eta 0:00:04\n",
      "   -------- ------------------------------- 1.6/8.0 MB 1.7 MB/s eta 0:00:04\n",
      "   -------- ------------------------------- 1.6/8.0 MB 1.7 MB/s eta 0:00:04\n",
      "   -------- ------------------------------- 1.6/8.0 MB 1.7 MB/s eta 0:00:04\n",
      "   -------- ------------------------------- 1.6/8.0 MB 1.7 MB/s eta 0:00:04\n",
      "   -------- ------------------------------- 1.6/8.0 MB 1.7 MB/s eta 0:00:04\n",
      "   -------- ------------------------------- 1.8/8.0 MB 1.3 MB/s eta 0:00:05\n",
      "   --------- ------------------------------ 1.9/8.0 MB 1.4 MB/s eta 0:00:05\n",
      "   --------- ------------------------------ 2.0/8.0 MB 1.4 MB/s eta 0:00:05\n",
      "   --------- ------------------------------ 2.0/8.0 MB 1.4 MB/s eta 0:00:05\n",
      "   --------- ------------------------------ 2.0/8.0 MB 1.4 MB/s eta 0:00:05\n",
      "   ---------- ----------------------------- 2.0/8.0 MB 1.3 MB/s eta 0:00:05\n",
      "   ---------- ----------------------------- 2.0/8.0 MB 1.3 MB/s eta 0:00:05\n",
      "   ---------- ----------------------------- 2.1/8.0 MB 1.3 MB/s eta 0:00:05\n",
      "   ---------- ----------------------------- 2.2/8.0 MB 1.3 MB/s eta 0:00:05\n",
      "   ----------- ---------------------------- 2.3/8.0 MB 1.3 MB/s eta 0:00:05\n",
      "   ----------- ---------------------------- 2.3/8.0 MB 1.3 MB/s eta 0:00:05\n",
      "   ----------- ---------------------------- 2.3/8.0 MB 1.3 MB/s eta 0:00:05\n",
      "   ----------- ---------------------------- 2.3/8.0 MB 1.2 MB/s eta 0:00:05\n",
      "   ----------- ---------------------------- 2.3/8.0 MB 1.2 MB/s eta 0:00:05\n",
      "   ----------- ---------------------------- 2.3/8.0 MB 1.2 MB/s eta 0:00:05\n",
      "   ----------- ---------------------------- 2.4/8.0 MB 1.2 MB/s eta 0:00:05\n",
      "   ----------- ---------------------------- 2.4/8.0 MB 1.2 MB/s eta 0:00:05\n",
      "   ------------ --------------------------- 2.4/8.0 MB 1.1 MB/s eta 0:00:05\n",
      "   ------------ --------------------------- 2.4/8.0 MB 1.1 MB/s eta 0:00:05\n",
      "   ------------ --------------------------- 2.5/8.0 MB 1.1 MB/s eta 0:00:05\n",
      "   ------------ --------------------------- 2.5/8.0 MB 1.1 MB/s eta 0:00:05\n",
      "   ------------ --------------------------- 2.5/8.0 MB 1.1 MB/s eta 0:00:05\n",
      "   ------------ --------------------------- 2.5/8.0 MB 1.1 MB/s eta 0:00:06\n",
      "   ------------ --------------------------- 2.5/8.0 MB 1.0 MB/s eta 0:00:06\n",
      "   ------------- -------------------------- 2.6/8.0 MB 1.1 MB/s eta 0:00:06\n",
      "   ------------- -------------------------- 2.6/8.0 MB 1.1 MB/s eta 0:00:06\n",
      "   ------------- -------------------------- 2.6/8.0 MB 1.0 MB/s eta 0:00:06\n",
      "   ------------- -------------------------- 2.6/8.0 MB 1.0 MB/s eta 0:00:06\n",
      "   ------------- -------------------------- 2.7/8.0 MB 1.0 MB/s eta 0:00:06\n",
      "   ------------- -------------------------- 2.7/8.0 MB 1.0 MB/s eta 0:00:06\n",
      "   ------------- -------------------------- 2.7/8.0 MB 1.0 MB/s eta 0:00:06\n",
      "   ------------- -------------------------- 2.7/8.0 MB 988.5 kB/s eta 0:00:06\n",
      "   ------------- -------------------------- 2.8/8.0 MB 974.0 kB/s eta 0:00:06\n",
      "   -------------- ------------------------- 2.8/8.0 MB 972.4 kB/s eta 0:00:06\n",
      "   -------------- ------------------------- 2.9/8.0 MB 995.3 kB/s eta 0:00:06\n",
      "   --------------- ------------------------ 3.1/8.0 MB 1.0 MB/s eta 0:00:05\n",
      "   ---------------- ----------------------- 3.3/8.0 MB 1.1 MB/s eta 0:00:05\n",
      "   ----------------- ---------------------- 3.4/8.0 MB 1.1 MB/s eta 0:00:05\n",
      "   ------------------ --------------------- 3.6/8.0 MB 1.2 MB/s eta 0:00:04\n",
      "   ------------------ --------------------- 3.7/8.0 MB 1.2 MB/s eta 0:00:04\n",
      "   ------------------- -------------------- 3.9/8.0 MB 1.2 MB/s eta 0:00:04\n",
      "   -------------------- ------------------- 4.1/8.0 MB 1.3 MB/s eta 0:00:04\n",
      "   --------------------- ------------------ 4.2/8.0 MB 1.3 MB/s eta 0:00:03\n",
      "   --------------------- ------------------ 4.2/8.0 MB 1.3 MB/s eta 0:00:03\n",
      "   --------------------- ------------------ 4.2/8.0 MB 1.3 MB/s eta 0:00:03\n",
      "   --------------------- ------------------ 4.2/8.0 MB 1.3 MB/s eta 0:00:03\n",
      "   --------------------- ------------------ 4.2/8.0 MB 1.3 MB/s eta 0:00:03\n",
      "   --------------------- ------------------ 4.2/8.0 MB 1.3 MB/s eta 0:00:03\n",
      "   --------------------- ------------------ 4.2/8.0 MB 1.3 MB/s eta 0:00:03\n",
      "   ---------------------- ----------------- 4.5/8.0 MB 1.2 MB/s eta 0:00:03\n",
      "   ---------------------- ----------------- 4.5/8.0 MB 1.2 MB/s eta 0:00:03\n",
      "   ---------------------- ----------------- 4.5/8.0 MB 1.2 MB/s eta 0:00:03\n",
      "   ---------------------- ----------------- 4.5/8.0 MB 1.2 MB/s eta 0:00:03\n",
      "   ------------------------ --------------- 4.9/8.0 MB 1.3 MB/s eta 0:00:03\n",
      "   ------------------------ --------------- 5.0/8.0 MB 1.3 MB/s eta 0:00:03\n",
      "   ------------------------- -------------- 5.0/8.0 MB 1.3 MB/s eta 0:00:03\n",
      "   ------------------------- -------------- 5.1/8.0 MB 1.3 MB/s eta 0:00:03\n",
      "   ------------------------- -------------- 5.2/8.0 MB 1.3 MB/s eta 0:00:03\n",
      "   -------------------------- ------------- 5.2/8.0 MB 1.3 MB/s eta 0:00:03\n",
      "   -------------------------- ------------- 5.3/8.0 MB 1.3 MB/s eta 0:00:03\n",
      "   -------------------------- ------------- 5.4/8.0 MB 1.3 MB/s eta 0:00:03\n",
      "   -------------------------- ------------- 5.4/8.0 MB 1.3 MB/s eta 0:00:03\n",
      "   --------------------------- ------------ 5.6/8.0 MB 1.3 MB/s eta 0:00:02\n",
      "   ---------------------------- ----------- 5.7/8.0 MB 1.3 MB/s eta 0:00:02\n",
      "   ---------------------------- ----------- 5.7/8.0 MB 1.3 MB/s eta 0:00:02\n",
      "   ---------------------------- ----------- 5.8/8.0 MB 1.3 MB/s eta 0:00:02\n",
      "   ---------------------------- ----------- 5.8/8.0 MB 1.3 MB/s eta 0:00:02\n",
      "   ----------------------------- ---------- 5.8/8.0 MB 1.3 MB/s eta 0:00:02\n",
      "   ----------------------------- ---------- 6.0/8.0 MB 1.3 MB/s eta 0:00:02\n",
      "   ------------------------------ --------- 6.1/8.0 MB 1.3 MB/s eta 0:00:02\n",
      "   ------------------------------- -------- 6.3/8.0 MB 1.4 MB/s eta 0:00:02\n",
      "   ------------------------------- -------- 6.4/8.0 MB 1.4 MB/s eta 0:00:02\n",
      "   -------------------------------- ------- 6.5/8.0 MB 1.4 MB/s eta 0:00:02\n",
      "   --------------------------------- ------ 6.6/8.0 MB 1.4 MB/s eta 0:00:02\n",
      "   --------------------------------- ------ 6.7/8.0 MB 1.4 MB/s eta 0:00:01\n",
      "   ---------------------------------- ----- 6.9/8.0 MB 1.4 MB/s eta 0:00:01\n",
      "   ----------------------------------- ---- 7.0/8.0 MB 1.4 MB/s eta 0:00:01\n",
      "   ----------------------------------- ---- 7.1/8.0 MB 1.4 MB/s eta 0:00:01\n",
      "   ------------------------------------ --- 7.2/8.0 MB 1.5 MB/s eta 0:00:01\n",
      "   ------------------------------------- -- 7.4/8.0 MB 1.5 MB/s eta 0:00:01\n",
      "   ------------------------------------- -- 7.6/8.0 MB 1.5 MB/s eta 0:00:01\n",
      "   -------------------------------------- - 7.7/8.0 MB 1.5 MB/s eta 0:00:01\n",
      "   ---------------------------------------  7.8/8.0 MB 1.5 MB/s eta 0:00:01\n",
      "   ---------------------------------------  7.9/8.0 MB 1.5 MB/s eta 0:00:01\n",
      "   ---------------------------------------- 8.0/8.0 MB 1.5 MB/s eta 0:00:00\n",
      "Downloading contourpy-1.2.1-cp312-cp312-win_amd64.whl (189 kB)\n",
      "   ---------------------------------------- 0.0/189.9 kB ? eta -:--:--\n",
      "   ------------------------------ --------- 143.4/189.9 kB 4.2 MB/s eta 0:00:01\n",
      "   ---------------------------------------- 189.9/189.9 kB 3.8 MB/s eta 0:00:00\n",
      "Downloading cycler-0.12.1-py3-none-any.whl (8.3 kB)\n",
      "Downloading fonttools-4.53.0-cp312-cp312-win_amd64.whl (2.2 MB)\n",
      "   ---------------------------------------- 0.0/2.2 MB ? eta -:--:--\n",
      "   -- ------------------------------------- 0.1/2.2 MB 3.5 MB/s eta 0:00:01\n",
      "   ----- ---------------------------------- 0.3/2.2 MB 3.8 MB/s eta 0:00:01\n",
      "   -------- ------------------------------- 0.5/2.2 MB 3.9 MB/s eta 0:00:01\n",
      "   ----------- ---------------------------- 0.6/2.2 MB 4.0 MB/s eta 0:00:01\n",
      "   ------------ --------------------------- 0.7/2.2 MB 3.1 MB/s eta 0:00:01\n",
      "   -------------- ------------------------- 0.8/2.2 MB 3.0 MB/s eta 0:00:01\n",
      "   ----------------- ---------------------- 0.9/2.2 MB 3.1 MB/s eta 0:00:01\n",
      "   -------------------- ------------------- 1.1/2.2 MB 3.3 MB/s eta 0:00:01\n",
      "   ----------------------- ---------------- 1.3/2.2 MB 3.2 MB/s eta 0:00:01\n",
      "   ------------------------- -------------- 1.4/2.2 MB 3.2 MB/s eta 0:00:01\n",
      "   --------------------------- ------------ 1.5/2.2 MB 3.1 MB/s eta 0:00:01\n",
      "   ------------------------------ --------- 1.7/2.2 MB 3.1 MB/s eta 0:00:01\n",
      "   --------------------------------- ------ 1.8/2.2 MB 3.2 MB/s eta 0:00:01\n",
      "   ------------------------------------ --- 2.0/2.2 MB 3.2 MB/s eta 0:00:01\n",
      "   -------------------------------------- - 2.1/2.2 MB 3.1 MB/s eta 0:00:01\n",
      "   ---------------------------------------- 2.2/2.2 MB 3.0 MB/s eta 0:00:00\n",
      "Downloading kiwisolver-1.4.5-cp312-cp312-win_amd64.whl (56 kB)\n",
      "   ---------------------------------------- 0.0/56.0 kB ? eta -:--:--\n",
      "   ---------------------------------------- 56.0/56.0 kB 3.1 MB/s eta 0:00:00\n",
      "Downloading pillow-10.3.0-cp312-cp312-win_amd64.whl (2.5 MB)\n",
      "   ---------------------------------------- 0.0/2.5 MB ? eta -:--:--\n",
      "   -- ------------------------------------- 0.2/2.5 MB 5.0 MB/s eta 0:00:01\n",
      "   ----- ---------------------------------- 0.3/2.5 MB 4.3 MB/s eta 0:00:01\n",
      "   ------- -------------------------------- 0.5/2.5 MB 3.9 MB/s eta 0:00:01\n",
      "   ---------- ----------------------------- 0.6/2.5 MB 3.7 MB/s eta 0:00:01\n",
      "   ----------- ---------------------------- 0.7/2.5 MB 3.3 MB/s eta 0:00:01\n",
      "   -------------- ------------------------- 0.9/2.5 MB 3.3 MB/s eta 0:00:01\n",
      "   ---------------- ----------------------- 1.1/2.5 MB 3.4 MB/s eta 0:00:01\n",
      "   ------------------ --------------------- 1.2/2.5 MB 3.2 MB/s eta 0:00:01\n",
      "   -------------------- ------------------- 1.3/2.5 MB 3.2 MB/s eta 0:00:01\n",
      "   ----------------------- ---------------- 1.5/2.5 MB 3.2 MB/s eta 0:00:01\n",
      "   ------------------------- -------------- 1.6/2.5 MB 3.2 MB/s eta 0:00:01\n",
      "   -------------------------- ------------- 1.7/2.5 MB 3.1 MB/s eta 0:00:01\n",
      "   ----------------------------- ---------- 1.9/2.5 MB 3.2 MB/s eta 0:00:01\n",
      "   ------------------------------- -------- 2.0/2.5 MB 3.1 MB/s eta 0:00:01\n",
      "   --------------------------------- ------ 2.1/2.5 MB 3.1 MB/s eta 0:00:01\n",
      "   ------------------------------------ --- 2.3/2.5 MB 3.1 MB/s eta 0:00:01\n",
      "   ------------------------------------- -- 2.4/2.5 MB 3.1 MB/s eta 0:00:01\n",
      "   -------------------------------------- - 2.4/2.5 MB 3.0 MB/s eta 0:00:01\n",
      "   ---------------------------------------- 2.5/2.5 MB 2.9 MB/s eta 0:00:00\n",
      "Downloading pyparsing-3.1.2-py3-none-any.whl (103 kB)\n",
      "   ---------------------------------------- 0.0/103.2 kB ? eta -:--:--\n",
      "   ---------------------------------------- 103.2/103.2 kB 3.0 MB/s eta 0:00:00\n",
      "Installing collected packages: pyparsing, pillow, kiwisolver, fonttools, cycler, contourpy, matplotlib\n",
      "Successfully installed contourpy-1.2.1 cycler-0.12.1 fonttools-4.53.0 kiwisolver-1.4.5 matplotlib-3.9.0 pillow-10.3.0 pyparsing-3.1.2\n",
      "Note: you may need to restart the kernel to use updated packages.\n"
     ]
    }
   ],
   "source": [
    "%pip install matplotlib"
   ]
  },
  {
   "cell_type": "code",
   "execution_count": 74,
   "metadata": {},
   "outputs": [
    {
     "name": "stdout",
     "output_type": "stream",
     "text": [
      "55.26315789473685\n",
      "44.73684210526315\n"
     ]
    }
   ],
   "source": [
    "# GC AT CONTENT\n",
    "def gc_percentage(sequence_z):\n",
    "    g = sequence_z.count('G')\n",
    "    c = sequence_z.count('C')\n",
    "    length = len(sequence_z)\n",
    "    # print(g)\n",
    "    # print(c)\n",
    "    # print(length)\n",
    "    return(g+c)/ length * 100\n",
    "\n",
    "print(gc_percentage(sequence_z))\n",
    "print(100-gc_percentage(sequence_z))"
   ]
  },
  {
   "cell_type": "code",
   "execution_count": 75,
   "metadata": {},
   "outputs": [
    {
     "name": "stdout",
     "output_type": "stream",
     "text": [
      "118.0\n",
      "66.7713231246095\n",
      "68.06402650901367\n",
      "11774.489\n"
     ]
    }
   ],
   "source": [
    "# melting temp\n",
    "\n",
    "from Bio.SeqUtils import MeltingTemp as MT\n",
    "# WALLACE\n",
    "print(MT.Tm_Wallace(sequence_z))\n",
    "\n",
    "# GC CONTENT\n",
    "print(MT.Tm_GC(sequence_z))\n",
    "\n",
    "# NEAREST NEIGHBOUR\n",
    "print(MT.Tm_NN(sequence_z))\n",
    "\n",
    "\n",
    "# MOLECULAR WEIGHT\n",
    "from Bio.SeqUtils import molecular_weight as MW\n",
    "print(MW(sequence_z))"
   ]
  },
  {
   "cell_type": "code",
   "execution_count": 76,
   "metadata": {},
   "outputs": [
    {
     "name": "stdout",
     "output_type": "stream",
     "text": [
      "CGAUCACGUCACUGUGCUAGCUCGCUAGGAGUCAGUGA\n",
      "RSRHCASSLGVS\n",
      "RSRHCASSLGVS\n",
      "GCTAGTGCAGTGACACGATCGAGCGATCCTCAGTCACT\n"
     ]
    },
    {
     "name": "stderr",
     "output_type": "stream",
     "text": [
      "c:\\Users\\rapha\\AppData\\Local\\Programs\\Python\\Python312\\Lib\\site-packages\\Bio\\Seq.py:2880: BiopythonWarning: Partial codon, len(sequence) not a multiple of three. Explicitly trim the sequence or add trailing N before translation. This may become an error in future.\n",
      "  warnings.warn(\n"
     ]
    }
   ],
   "source": [
    "# TRANSCRIBE DNA -> RNA\n",
    "RNA = sequence_z.transcribe()\n",
    "print(RNA)\n",
    "\n",
    "# TRANSLATE\n",
    "print(RNA.translate())\n",
    "# BISA JUGA DARI DNA NYA LGSG\n",
    "print(sequence_z.translate()) #bisa ada warning klo dari sequencenya lgsg\n",
    "\n",
    "# COMPLEMENT\n",
    "print(sequence_z.complement())"
   ]
  },
  {
   "cell_type": "code",
   "execution_count": 77,
   "metadata": {},
   "outputs": [
    {
     "name": "stdout",
     "output_type": "stream",
     "text": [
      "6 CTGAGCAGGCAGCAT-GTGTCGAC-G-A-TCGAGTGACTG-AGC-AGGC-AGC---AT-GT-G-T--CGA-CGAT--C--G\n",
      "  ||       | | || ||||| || | | |||| |  | | ||| | || |||   || || | |  ||| || |  |  |\n",
      "1 CT-------C-G-ATCGTGTC-ACTGCACTCGA-T--C-GTAGCTA-GCTAGCTCGATCGTAGCTGTCGATCG-TAGCTAG\n",
      "  Score=45\n",
      "\n",
      "CTCGATCGTGTCACTGCACTCGATCGTAGCTAGCTAGCTCGATCGTAGCTGTCGATCGT-AGCTAGC-\n",
      "  |||     |||| |   || | | | | | |||||||||  | ||   |  ||  || || | |  \n",
      "--CGA-----TCAC-G---TC-A-C-T-G-T-GCTAGCTCG--C-TA---G--GA--GTCAG-T-G-A\n",
      "  Score=36\n",
      "\n"
     ]
    }
   ],
   "source": [
    "# SEQUENCE ALIGNMENT\n",
    "from Bio import pairwise2\n",
    "from Bio.pairwise2 import format_alignment\n",
    "\n",
    "# LOCAL ALIGNMENT\n",
    "local_align = pairwise2.align.localxx(sequence_x, sequence_y, one_alignment_only = True)\n",
    "for i in local_align:\n",
    "    print(format_alignment(*i))\n",
    "\n",
    "global_align = pairwise2.align.globalxx(sequence_y, sequence_z, one_alignment_only = True)\n",
    "for i in global_align:\n",
    "    print(format_alignment(*i))"
   ]
  },
  {
   "cell_type": "code",
   "execution_count": 63,
   "metadata": {},
   "outputs": [
    {
     "name": "stdout",
     "output_type": "stream",
     "text": [
      "Collecting python-LevenshteinNote: you may need to restart the kernel to use updated packages.\n",
      "\n",
      "  Downloading python_Levenshtein-0.25.1-py3-none-any.whl.metadata (3.7 kB)\n",
      "Collecting Levenshtein==0.25.1 (from python-Levenshtein)\n",
      "  Downloading Levenshtein-0.25.1-cp312-cp312-win_amd64.whl.metadata (3.4 kB)\n",
      "Collecting rapidfuzz<4.0.0,>=3.8.0 (from Levenshtein==0.25.1->python-Levenshtein)\n",
      "  Downloading rapidfuzz-3.9.3-cp312-cp312-win_amd64.whl.metadata (12 kB)\n",
      "Downloading python_Levenshtein-0.25.1-py3-none-any.whl (9.4 kB)\n",
      "Downloading Levenshtein-0.25.1-cp312-cp312-win_amd64.whl (98 kB)\n",
      "   ---------------------------------------- 0.0/98.6 kB ? eta -:--:--\n",
      "   ---- ----------------------------------- 10.2/98.6 kB ? eta -:--:--\n",
      "   ---- ----------------------------------- 10.2/98.6 kB ? eta -:--:--\n",
      "   ------------ --------------------------- 30.7/98.6 kB 262.6 kB/s eta 0:00:01\n",
      "   ------------ --------------------------- 30.7/98.6 kB 262.6 kB/s eta 0:00:01\n",
      "   ------------ --------------------------- 30.7/98.6 kB 262.6 kB/s eta 0:00:01\n",
      "   ------------------------ --------------- 61.4/98.6 kB 204.8 kB/s eta 0:00:01\n",
      "   ------------------------ --------------- 61.4/98.6 kB 204.8 kB/s eta 0:00:01\n",
      "   ---------------------------------------- 98.6/98.6 kB 256.8 kB/s eta 0:00:00\n",
      "Downloading rapidfuzz-3.9.3-cp312-cp312-win_amd64.whl (1.6 MB)\n",
      "   ---------------------------------------- 0.0/1.6 MB ? eta -:--:--\n",
      "    --------------------------------------- 0.0/1.6 MB 991.0 kB/s eta 0:00:02\n",
      "   -- ------------------------------------- 0.1/1.6 MB 1.3 MB/s eta 0:00:02\n",
      "   -- ------------------------------------- 0.1/1.6 MB 1.3 MB/s eta 0:00:02\n",
      "   -- ------------------------------------- 0.1/1.6 MB 654.9 kB/s eta 0:00:03\n",
      "   --- ------------------------------------ 0.1/1.6 MB 655.8 kB/s eta 0:00:03\n",
      "   ---- ----------------------------------- 0.2/1.6 MB 692.9 kB/s eta 0:00:03\n",
      "   ----- ---------------------------------- 0.2/1.6 MB 838.1 kB/s eta 0:00:02\n",
      "   ----- ---------------------------------- 0.2/1.6 MB 838.1 kB/s eta 0:00:02\n",
      "   -------- ------------------------------- 0.4/1.6 MB 857.5 kB/s eta 0:00:02\n",
      "   --------- ------------------------------ 0.4/1.6 MB 867.0 kB/s eta 0:00:02\n",
      "   ------------ --------------------------- 0.5/1.6 MB 1.0 MB/s eta 0:00:02\n",
      "   ------------ --------------------------- 0.5/1.6 MB 1.0 MB/s eta 0:00:02\n",
      "   ------------- -------------------------- 0.6/1.6 MB 948.1 kB/s eta 0:00:02\n",
      "   ---------------- ----------------------- 0.7/1.6 MB 1.1 MB/s eta 0:00:01\n",
      "   -------------------- ------------------- 0.8/1.6 MB 1.2 MB/s eta 0:00:01\n",
      "   ------------------------- -------------- 1.0/1.6 MB 1.4 MB/s eta 0:00:01\n",
      "   ------------------------- -------------- 1.0/1.6 MB 1.4 MB/s eta 0:00:01\n",
      "   --------------------------- ------------ 1.1/1.6 MB 1.4 MB/s eta 0:00:01\n",
      "   ------------------------------ --------- 1.2/1.6 MB 1.4 MB/s eta 0:00:01\n",
      "   ------------------------------ --------- 1.2/1.6 MB 1.4 MB/s eta 0:00:01\n",
      "   ------------------------------- -------- 1.3/1.6 MB 1.3 MB/s eta 0:00:01\n",
      "   --------------------------------- ------ 1.4/1.6 MB 1.3 MB/s eta 0:00:01\n",
      "   ----------------------------------- ---- 1.5/1.6 MB 1.4 MB/s eta 0:00:01\n",
      "   ---------------------------------------  1.6/1.6 MB 1.5 MB/s eta 0:00:01\n",
      "   ---------------------------------------- 1.6/1.6 MB 1.5 MB/s eta 0:00:00\n",
      "Installing collected packages: rapidfuzz, Levenshtein, python-Levenshtein\n",
      "Successfully installed Levenshtein-0.25.1 python-Levenshtein-0.25.1 rapidfuzz-3.9.3\n"
     ]
    }
   ],
   "source": [
    "%pip install python-Levenshtein"
   ]
  },
  {
   "cell_type": "code",
   "execution_count": 78,
   "metadata": {},
   "outputs": [
    {
     "name": "stdout",
     "output_type": "stream",
     "text": [
      "49\n",
      "34\n"
     ]
    }
   ],
   "source": [
    "# HAMMING DAN LEVENHSTEIN\n",
    "def hamming(seq1, seq2):\n",
    "    effort = 0\n",
    "    for x,y in zip(seq1, seq2):\n",
    "        if(x != y):\n",
    "            effort += 1\n",
    "    return effort\n",
    "print(hamming(sequence_x, sequence_y))\n",
    "\n",
    "# levenshtein distance\n",
    "from Levenshtein import distance\n",
    "print(distance(sequence_x, sequence_y))\n"
   ]
  },
  {
   "cell_type": "code",
   "execution_count": 79,
   "metadata": {},
   "outputs": [
    {
     "name": "stdout",
     "output_type": "stream",
     "text": [
      " |CTCGATCGTGTCACTGCACTCGATCGTAGCTAGCTAGCTCGATCGTAGCTGTCGATCGTAGCTAGC\n",
      "--------------------------------------------------------------------\n",
      "A|    X       X    X    X    X   X   X     X    X       X    X   X  \n",
      "G|   X   X X     X     X   X  X   X   X   X   X  X  X  X   X  X   X \n",
      "T| X   X  X X   X    X   X  X   X   X   X   X  X   X X   X  X   X   \n",
      "G|   X   X X     X     X   X  X   X   X   X   X  X  X  X   X  X   X \n",
      "A|    X       X    X    X    X   X   X     X    X       X    X   X  \n",
      "C|X X   X    X X  X X X   X    X   X   X X   X    X   X   X    X   X\n",
      "T| X   X  X X   X    X   X  X   X   X   X   X  X   X X   X  X   X   \n",
      "G|   X   X X     X     X   X  X   X   X   X   X  X  X  X   X  X   X \n",
      "A|    X       X    X    X    X   X   X     X    X       X    X   X  \n",
      "G|   X   X X     X     X   X  X   X   X   X   X  X  X  X   X  X   X \n",
      "C|X X   X    X X  X X X   X    X   X   X X   X    X   X   X    X   X\n",
      "A|    X       X    X    X    X   X   X     X    X       X    X   X  \n",
      "G|   X   X X     X     X   X  X   X   X   X   X  X  X  X   X  X   X \n",
      "G|   X   X X     X     X   X  X   X   X   X   X  X  X  X   X  X   X \n",
      "C|X X   X    X X  X X X   X    X   X   X X   X    X   X   X    X   X\n",
      "A|    X       X    X    X    X   X   X     X    X       X    X   X  \n",
      "G|   X   X X     X     X   X  X   X   X   X   X  X  X  X   X  X   X \n",
      "C|X X   X    X X  X X X   X    X   X   X X   X    X   X   X    X   X\n",
      "A|    X       X    X    X    X   X   X     X    X       X    X   X  \n",
      "T| X   X  X X   X    X   X  X   X   X   X   X  X   X X   X  X   X   \n",
      "G|   X   X X     X     X   X  X   X   X   X   X  X  X  X   X  X   X \n",
      "T| X   X  X X   X    X   X  X   X   X   X   X  X   X X   X  X   X   \n",
      "G|   X   X X     X     X   X  X   X   X   X   X  X  X  X   X  X   X \n",
      "T| X   X  X X   X    X   X  X   X   X   X   X  X   X X   X  X   X   \n",
      "C|X X   X    X X  X X X   X    X   X   X X   X    X   X   X    X   X\n",
      "G|   X   X X     X     X   X  X   X   X   X   X  X  X  X   X  X   X \n",
      "A|    X       X    X    X    X   X   X     X    X       X    X   X  \n",
      "C|X X   X    X X  X X X   X    X   X   X X   X    X   X   X    X   X\n",
      "G|   X   X X     X     X   X  X   X   X   X   X  X  X  X   X  X   X \n",
      "A|    X       X    X    X    X   X   X     X    X       X    X   X  \n",
      "T| X   X  X X   X    X   X  X   X   X   X   X  X   X X   X  X   X   \n",
      "C|X X   X    X X  X X X   X    X   X   X X   X    X   X   X    X   X\n",
      "G|   X   X X     X     X   X  X   X   X   X   X  X  X  X   X  X   X \n",
      "A|    X       X    X    X    X   X   X     X    X       X    X   X  \n",
      "G|   X   X X     X     X   X  X   X   X   X   X  X  X  X   X  X   X \n",
      "T| X   X  X X   X    X   X  X   X   X   X   X  X   X X   X  X   X   \n",
      "G|   X   X X     X     X   X  X   X   X   X   X  X  X  X   X  X   X \n",
      "A|    X       X    X    X    X   X   X     X    X       X    X   X  \n",
      "C|X X   X    X X  X X X   X    X   X   X X   X    X   X   X    X   X\n",
      "T| X   X  X X   X    X   X  X   X   X   X   X  X   X X   X  X   X   \n",
      "G|   X   X X     X     X   X  X   X   X   X   X  X  X  X   X  X   X \n",
      "A|    X       X    X    X    X   X   X     X    X       X    X   X  \n",
      "G|   X   X X     X     X   X  X   X   X   X   X  X  X  X   X  X   X \n",
      "C|X X   X    X X  X X X   X    X   X   X X   X    X   X   X    X   X\n",
      "A|    X       X    X    X    X   X   X     X    X       X    X   X  \n",
      "G|   X   X X     X     X   X  X   X   X   X   X  X  X  X   X  X   X \n",
      "G|   X   X X     X     X   X  X   X   X   X   X  X  X  X   X  X   X \n",
      "C|X X   X    X X  X X X   X    X   X   X X   X    X   X   X    X   X\n",
      "A|    X       X    X    X    X   X   X     X    X       X    X   X  \n",
      "G|   X   X X     X     X   X  X   X   X   X   X  X  X  X   X  X   X \n",
      "C|X X   X    X X  X X X   X    X   X   X X   X    X   X   X    X   X\n",
      "A|    X       X    X    X    X   X   X     X    X       X    X   X  \n",
      "T| X   X  X X   X    X   X  X   X   X   X   X  X   X X   X  X   X   \n",
      "G|   X   X X     X     X   X  X   X   X   X   X  X  X  X   X  X   X \n",
      "T| X   X  X X   X    X   X  X   X   X   X   X  X   X X   X  X   X   \n",
      "G|   X   X X     X     X   X  X   X   X   X   X  X  X  X   X  X   X \n",
      "T| X   X  X X   X    X   X  X   X   X   X   X  X   X X   X  X   X   \n",
      "C|X X   X    X X  X X X   X    X   X   X X   X    X   X   X    X   X\n",
      "G|   X   X X     X     X   X  X   X   X   X   X  X  X  X   X  X   X \n",
      "A|    X       X    X    X    X   X   X     X    X       X    X   X  \n",
      "C|X X   X    X X  X X X   X    X   X   X X   X    X   X   X    X   X\n",
      "G|   X   X X     X     X   X  X   X   X   X   X  X  X  X   X  X   X \n",
      "A|    X       X    X    X    X   X   X     X    X       X    X   X  \n",
      "T| X   X  X X   X    X   X  X   X   X   X   X  X   X X   X  X   X   \n",
      "C|X X   X    X X  X X X   X    X   X   X X   X    X   X   X    X   X\n",
      "G|   X   X X     X     X   X  X   X   X   X   X  X  X  X   X  X   X \n"
     ]
    }
   ],
   "source": [
    "def plotting(seq1, seq2):\n",
    "    print(' |' + seq2)\n",
    "    print('-'*(len(seq2)+2))\n",
    "    for i in seq1:\n",
    "        print(i + '|', end='')\n",
    "        for j in seq2:\n",
    "            if(i==j):\n",
    "                print('X', end='')\n",
    "            else:\n",
    "                print(' ', end='')\n",
    "        print()\n",
    "plotting(sequence_x, sequence_y)"
   ]
  },
  {
   "cell_type": "code",
   "execution_count": 80,
   "metadata": {},
   "outputs": [
    {
     "name": "stdout",
     "output_type": "stream",
     "text": [
      "ID: seqX\n",
      "Name: seqX\n",
      "Description: seqX Description of Sequence X\n",
      "Number of features: 0\n",
      "Seq('AGTGACTGAGCAGGCAGCATGTGTCGACGATCGAGTGACTGAGCAGGCAGCATG...TCG')\n",
      "AGTGACTGAGCAGGCAGCATGTGTCGACGATCGAGTGACTGAGCAGGCAGCATGTGTCGACGATCG\n",
      "CTCGATCGTGTCACTGCACTCGATCGTAGCTAGCTAGCTCGATCGTAGCTGTCGATCGTAGCTAGC\n"
     ]
    }
   ],
   "source": [
    "from Bio import SeqIO\n",
    "fastaFileX = SeqIO.read('x.fasta', 'fasta')\n",
    "fastaFileY= SeqIO.read('y.fasta', 'fasta')\n",
    "\n",
    "print(fastaFileX)\n",
    "print(fastaFileX.seq)\n",
    "print(fastaFileY.seq)"
   ]
  }
 ],
 "metadata": {
  "kernelspec": {
   "display_name": "Python 3",
   "language": "python",
   "name": "python3"
  },
  "language_info": {
   "codemirror_mode": {
    "name": "ipython",
    "version": 3
   },
   "file_extension": ".py",
   "mimetype": "text/x-python",
   "name": "python",
   "nbconvert_exporter": "python",
   "pygments_lexer": "ipython3",
   "version": "3.12.3"
  }
 },
 "nbformat": 4,
 "nbformat_minor": 2
}
